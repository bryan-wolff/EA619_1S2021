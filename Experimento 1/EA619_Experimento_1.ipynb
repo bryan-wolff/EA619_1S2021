{
  "nbformat": 4,
  "nbformat_minor": 0,
  "metadata": {
    "colab": {
      "name": "EA619_Experimento_1.ipynb",
      "provenance": [],
      "collapsed_sections": []
    },
    "kernelspec": {
      "display_name": "Python 3",
      "name": "python3"
    },
    "language_info": {
      "name": "python"
    }
  },
  "cells": [
    {
      "cell_type": "markdown",
      "metadata": {
        "id": "view-in-github"
      },
      "source": [
        "<a href=\"https://colab.research.google.com/github/bryan-wolff/EA619R_2021S1/blob/main/Experimento%201/EA619_Experimento_1.ipynb\" target=\"_parent\"><img src=\"https://colab.research.google.com/assets/colab-badge.svg\" alt=\"Open In Colab\"/></a>"
      ]
    },
    {
      "cell_type": "markdown",
      "metadata": {
        "id": "ElTeM5wcADGO"
      },
      "source": [
        "# **EA619 - Laboratório de Análise Linear**\n",
        "## Experimento 1 - Amostragem de Sinais\n",
        "### Bryan Wolff - RA: 214095\n",
        "### João Luís Carvalho de Abreu - RA: 175997\n",
        "\n"
      ]
    },
    {
      "cell_type": "markdown",
      "metadata": {
        "id": "7XP4UGzg1b0r"
      },
      "source": [
        "## **Importando Bibliotecas**"
      ]
    },
    {
      "cell_type": "code",
      "metadata": {
        "id": "A31TTQZ5-rt7"
      },
      "source": [
        "!pip install pysoundfile"
      ],
      "execution_count": null,
      "outputs": []
    },
    {
      "cell_type": "code",
      "metadata": {
        "id": "acL84xzH-rsp"
      },
      "source": [
        "'''Importando bibliotecas necessárias para execução geral do programa, \n",
        "trabalhos com áudio e para utilização de arquivos salvos no drive'''\n",
        "\n",
        "#Geral\n",
        "import math\n",
        "import numpy as np\n",
        "import matplotlib.pyplot as plt \n",
        "from scipy import signal\n",
        "import plotly.graph_objects as go\n",
        "from plotly.offline import iplot, init_notebook_mode\n",
        "\n",
        "#Audio\n",
        "from IPython.display import Audio\n",
        "from scipy.io import wavfile\n",
        "import cffi\n",
        "import librosa\n",
        "import IPython.display as ipd\n",
        "\n",
        "#Drive\n",
        "from pydrive.auth import GoogleAuth\n",
        "from pydrive.drive import GoogleDrive\n",
        "from google.colab import auth\n",
        "from oauth2client.client import GoogleCredentials\n",
        "\n",
        "auth.authenticate_user()\n",
        "gauth = GoogleAuth()\n",
        "gauth.credentials = GoogleCredentials.get_application_default()\n",
        "drive = GoogleDrive(gauth)\n",
        "\n",
        "'''Necessário código de autenticação para acesso ao arquivo do drive.\n",
        "Para isso, basta clicar no link, permitir acesso e copiar o código \n",
        "disponibilizado'''"
      ],
      "execution_count": null,
      "outputs": []
    },
    {
      "cell_type": "code",
      "metadata": {
        "id": "SLDWsg9bYRwp"
      },
      "source": [
        "# Configurando o Plotly\n",
        "\n",
        "def configure_plotly_browser_state():\n",
        "    import IPython\n",
        "    display(IPython.core.display.HTML('''\n",
        "        <script src=\"/static/components/requirejs/require.js\"></script>\n",
        "        <script>\n",
        "          requirejs.config({\n",
        "            paths: {\n",
        "              base: '/static/base',\n",
        "              plotly: 'https://cdn.plot.ly/plotly-1.5.1.min.js?noext',\n",
        "            },\n",
        "          });\n",
        "        </script>\n",
        "        '''))"
      ],
      "execution_count": null,
      "outputs": []
    },
    {
      "cell_type": "markdown",
      "metadata": {
        "id": "E8303NH7AjXw"
      },
      "source": [
        "## **Arquivo de Áudio Original**\n",
        "Este item restringe-se apenas ao carregamento do arquivo de audio a ser analisado ao longo deste exercício.\n",
        "Neste caso, utilizou-se o ***librosa***."
      ]
    },
    {
      "cell_type": "code",
      "metadata": {
        "id": "gLMetD3g-5KZ"
      },
      "source": [
        "#Leitura de arquivo de áudio do drive\n",
        "audio_Y = drive.CreateFile({'id':'132hwAsOEAgDZNnd9rsfHi_h9WJvEN4QQ'})\n",
        "audio_Y.GetContentFile('elefante.wav')\n",
        "audio_Y, f_s = librosa.load('elefante.wav')\n",
        "\n",
        "print('Taxa de Amostragem (fs): {} Hz\\n'.format(f_s))\n",
        "\n",
        "#Áudio original\n",
        "ipd.Audio(audio_Y,rate=f_s)"
      ],
      "execution_count": null,
      "outputs": []
    },
    {
      "cell_type": "markdown",
      "metadata": {
        "id": "TPhYMk3342Q6"
      },
      "source": [
        "## **Rotinas**"
      ]
    },
    {
      "cell_type": "markdown",
      "metadata": {
        "id": "UzZjKzMR4l7Y"
      },
      "source": [
        "**Rotinas: Espectro e Plot**"
      ]
    },
    {
      "cell_type": "code",
      "metadata": {
        "id": "_tpX6cKupyr2"
      },
      "source": [
        "def espectro(func, fs):\n",
        "    sinal = np.fft.fft(func) #transf. de Fourier\n",
        "    w = np.linspace(0,fs,sinal.size) #frequencias avaliadas\n",
        "    return w,sinal\n",
        "\n",
        "def plot(w, sinal, yaxis):\n",
        "    #no intuito de obter um gráfico interativo para a visualização da principal frequência de cada grupo, utilizou-se a biblioteca plotly\n",
        "    configure_plotly_browser_state()\n",
        "    init_notebook_mode(connected = False)\n",
        "\n",
        "    fig = go.Figure(data=go.Scatter(x=w, \n",
        "                                    y=np.abs(sinal),\n",
        "                                    mode='lines',\n",
        "                                    line=dict(color='#fc3d03')),\n",
        "                    layout=go.Layout(title='DFT do Sinal de Áudio',\n",
        "                                     xaxis=dict(title='Freq. (Hz)'),\n",
        "                                     yaxis=dict(title=yaxis),\n",
        "                                     plot_bgcolor='#f2f0f0'))\n",
        "    fig.show()\n"
      ],
      "execution_count": null,
      "outputs": []
    },
    {
      "cell_type": "markdown",
      "metadata": {
        "id": "yZTLCWq24q37"
      },
      "source": [
        "**Rotina de Subamostragem**"
      ]
    },
    {
      "cell_type": "code",
      "metadata": {
        "id": "i61oAt1jhZP7"
      },
      "source": [
        "def subamostragem(espectro, M):\n",
        "    #rotina de subamostragem (decimação) que reduz a taxa de amostragem por um fator de M\n",
        "    sub = []\n",
        "    for i in range(0,len(espectro), M):\n",
        "      sub.append(espectro[i])\n",
        "    return sub"
      ],
      "execution_count": null,
      "outputs": []
    },
    {
      "cell_type": "markdown",
      "metadata": {
        "id": "Wu-Mv8PSS7oR"
      },
      "source": [
        "## **Questão 1**\n",
        "\n",
        "Pelo Teorema de Nyquist, para possibilitar o registro digital de todas as frequências analisadas e poder recuperálas após a amostragem, é necessário que a taxa de amostragem ($f_s$) seja ao menos duas vezes maior que a frequência do sinal original ($f_m$), isto é, $f_s > 2f_m$. Logo, tendo em vista $f_s$ = 22050 Hz, $f_m$ = 11025 Hz."
      ]
    },
    {
      "cell_type": "markdown",
      "metadata": {
        "id": "RZPvw_aETADV"
      },
      "source": [
        "## **Questão 2**"
      ]
    },
    {
      "cell_type": "markdown",
      "metadata": {
        "id": "dksyQ-oPAMSc"
      },
      "source": [
        "De acordo com o Teorema de Nyquist, quando a taxa de amostragem para determinado sinal é menor que a frequência de Nyquist, ocorre o efeito *aliasing*, em que uma alta frequência é medida erroneamente como sendo de frequência mais baixa, o que implica uma superposição dos espectros e a impossibilidade de recuperação do sinal analógico original."
      ]
    },
    {
      "cell_type": "code",
      "metadata": {
        "id": "xJeK_ffbkDFG"
      },
      "source": [
        "#Espectro do sinal de áudio original do elefante\n",
        "w_Y, Y = espectro(audio_Y, f_s)\n",
        "plot(w_Y, Y, '|Y|')"
      ],
      "execution_count": null,
      "outputs": []
    },
    {
      "cell_type": "markdown",
      "metadata": {
        "id": "N0nA4cR1AlVW"
      },
      "source": [
        "Ao aplicar a transformada de Fourier no sinal, é possível visualizar o espectro do aúdio a partir do gráfico gerado acima. Dado a exisistência de periodicidade em $f_s$, as frequências positivas e negativas podem ser verificadas através do eixo $\\omega$ pela simetria do espectro. Assim, as componentes negativas são de 11025Hz a 22050Hz, enquanto as componentes positivas são de 0 a 11025 Hz.\n",
        "\n",
        "É notável a existência de dois grupos de frequência relevantes na caracterização do sinal Y. Essas frequências podem ser verificadas a partir do cursor do gráfico interativo, no qual o primeiro grupo destaca-se uma frequência de aproximadamente 656Hz e o segundo grupo uma frequência de 1318Hz."
      ]
    },
    {
      "cell_type": "code",
      "metadata": {
        "id": "9g9S4cio5L8L"
      },
      "source": [
        "#dado o fator M = 7\n",
        "audio_X = subamostragem(audio_Y, 7) #subamostragem do sinal original"
      ],
      "execution_count": null,
      "outputs": []
    },
    {
      "cell_type": "markdown",
      "metadata": {
        "id": "pzl54Y4-TAbu"
      },
      "source": [
        "## **Questão 3**"
      ]
    },
    {
      "cell_type": "markdown",
      "metadata": {
        "id": "BTrj0cTH8kEz"
      },
      "source": [
        "Considerando que as amostras para x são tomadas de 7 em 7, é possível afirmar que a frequência de amostragem neste caso é, portanto, sete vezes menor que a do sinal original. Assim, $$f_s' = \\frac{f_s}{7} = \\frac{22050}{7} = 3150 Hz$$ "
      ]
    },
    {
      "cell_type": "code",
      "metadata": {
        "id": "JwVnfiXclnsq"
      },
      "source": [
        "#A partir da rotina de espectro obtem-se o seguinte espectro do áudio decimado\n",
        "w_X, X = espectro(audio_X, f_s/7)\n",
        "plot(w_X, X, '|X|')"
      ],
      "execution_count": null,
      "outputs": []
    },
    {
      "cell_type": "code",
      "metadata": {
        "id": "QseHSZjznuN8"
      },
      "source": [
        "ipd.Audio(audio_X, rate=f_s/7)"
      ],
      "execution_count": null,
      "outputs": []
    },
    {
      "cell_type": "markdown",
      "metadata": {
        "id": "Xsf1u4qMoJz-"
      },
      "source": [
        "Logo ao escutar os dois áudios (original e subamostrado), é possível notar uma considerável perda na qualidade do áudio que passou pelo processo de decimação. Há uma sensação de que o som está abafado, mais grave e com notável ruído, características que podem ser apontadas como resultantes do efeito de *aliasing*."
      ]
    },
    {
      "cell_type": "markdown",
      "metadata": {
        "id": "rC7C4cwFTAqw"
      },
      "source": [
        "## **Questão 4**"
      ]
    },
    {
      "cell_type": "markdown",
      "metadata": {
        "id": "VQBXSjpWD-At"
      },
      "source": [
        "Tendo em vista o teorema de Nyquist já abordado na Questão 1, é possível afirmar que, para uma taxa de amostragem do sinal decimado equivalente a 3150 Hz, apenas as frequências até 1575 Hz serão preservadas este valor corresponde a 14ª parte da taxa de amostragem do sinal original (22050 Hz).\n",
        "\n",
        "Nesse sentido, para eliminar o efeito de aliasing da maneira sugerida pelo enunciado da questão, é necessário zerar todas as frequências acima de 1575 Hz. Em outras palavras, ao dividir nosso espectro em 14 partes iguais, apenas a primeira e última parte serão preservadas, mais especificamente as partes referentes às freqûencia até 1575 Hz e a partir de 20475 Hz.\n"
      ]
    },
    {
      "cell_type": "code",
      "metadata": {
        "id": "Et7lxQcNmNl4"
      },
      "source": [
        "aux = Y #cópia do sinal original a ser modificada\n",
        "\n",
        "#zerando as componentes referentes às frequências fora do espectro a ser preservado\n",
        "K_inicial = len(aux)//14\n",
        "K_final = len(aux)-len(aux)//14\n",
        "aux[K_inicial:K_final] = 0\n",
        "\n",
        "audio_edit = np.fft.ifft(aux) #transformada inversa do sinal parcialmente zerado --> recuperar sinal original\n",
        "\n",
        "# Espectro recuperado\n",
        "w_edit, X_edit = espectro(audio_edit, f_s)\n",
        "plot(w_edit, X_edit, 'Magnitude do Sinal Editado')"
      ],
      "execution_count": null,
      "outputs": []
    },
    {
      "cell_type": "code",
      "metadata": {
        "id": "oTlipLJSvWYm"
      },
      "source": [
        "# Subamostragem do sinal recuperado\n",
        "audio_Z = subamostragem(audio_edit, 7)\n",
        "w_Z, Z = espectro(audio_Z, f_s/7)\n",
        "plot(w_Z, Z, '|Z|')"
      ],
      "execution_count": null,
      "outputs": []
    },
    {
      "cell_type": "markdown",
      "metadata": {
        "id": "Lp6VuKhqTBHq"
      },
      "source": [
        "## **Questão 5**"
      ]
    },
    {
      "cell_type": "markdown",
      "metadata": {
        "id": "ECrpAENMGhht"
      },
      "source": [
        "Comparando os sinais Y, X e o sinal Z subamostrado, no qual foi computado logo abaixo, é possível notar que tanto o sinal X quanto o sinal Z tem perda considerável na qualidade do áudio em comparação com o original (Y). Porém, a qualidade do sinal Z, no qual foi aplicado a estratégia para evitar o **aliasing** é ligeiramente melhor que o sinal X."
      ]
    },
    {
      "cell_type": "code",
      "metadata": {
        "id": "OABPQJP1v5Xs",
        "cellView": "form"
      },
      "source": [
        "#@title **Áudio Y**\n",
        "#Sinal orginial\n",
        "ipd.Audio(audio_Y, rate=f_s)"
      ],
      "execution_count": null,
      "outputs": []
    },
    {
      "cell_type": "code",
      "metadata": {
        "id": "AJVWUBhGv9EB",
        "cellView": "form"
      },
      "source": [
        "#@title **Áudio X**\n",
        "#Sinal subamostrado\n",
        "ipd.Audio(audio_X, rate=f_s/7)"
      ],
      "execution_count": null,
      "outputs": []
    },
    {
      "cell_type": "code",
      "metadata": {
        "id": "mnjy2tq7wBoj",
        "cellView": "form"
      },
      "source": [
        "#@title **Áudio Z**\n",
        "#Sinal parcialmente zerado e subamostrado\n",
        "ipd.Audio(audio_Z, rate=f_s/7)"
      ],
      "execution_count": null,
      "outputs": []
    }
  ]
}