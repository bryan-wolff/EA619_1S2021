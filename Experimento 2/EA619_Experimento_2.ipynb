{
  "nbformat": 4,
  "nbformat_minor": 0,
  "metadata": {
    "colab": {
      "name": "EA619_Experimento_2.ipynb",
      "provenance": [],
      "collapsed_sections": []
    },
    "kernelspec": {
      "display_name": "Python 3",
      "name": "python3"
    },
    "language_info": {
      "name": "python"
    }
  },
  "cells": [
    {
      "cell_type": "markdown",
      "metadata": {
        "id": "view-in-github"
      },
      "source": [
        "<a href=\"https://colab.research.google.com/github/bryan-wolff/EA619R_2021S1/blob/main/Experimento%202/EA619_Experimento_2.ipynb\" target=\"_parent\"><img src=\"https://colab.research.google.com/assets/colab-badge.svg\" alt=\"Open In Colab\"/></a>"
      ]
    },
    {
      "cell_type": "markdown",
      "metadata": {
        "id": "ElTeM5wcADGO"
      },
      "source": [
        "# **EA619 - Laboratório de Análise Linear**\n",
        "## Experimento 2 - Rádio AM\n",
        "### Bryan Wolff - RA: 214095\n",
        "### João Luís Carvalho de Abreu - RA: 175997\n",
        "\n"
      ]
    },
    {
      "cell_type": "markdown",
      "metadata": {
        "id": "7XP4UGzg1b0r"
      },
      "source": [
        "## **Importando Bibliotecas**"
      ]
    },
    {
      "cell_type": "code",
      "metadata": {
        "id": "A31TTQZ5-rt7"
      },
      "source": [
        "!pip install pysoundfile"
      ],
      "execution_count": null,
      "outputs": []
    },
    {
      "cell_type": "code",
      "metadata": {
        "id": "acL84xzH-rsp"
      },
      "source": [
        "#Geral\n",
        "import math\n",
        "import numpy as np\n",
        "import matplotlib.pyplot as plt \n",
        "from scipy import signal\n",
        "import plotly.graph_objects as go\n",
        "from plotly.offline import iplot, init_notebook_mode\n",
        "\n",
        "#Audio\n",
        "from IPython.display import Audio\n",
        "from scipy.io import wavfile\n",
        "import cffi\n",
        "import librosa\n",
        "import IPython.display as ipd\n",
        "\n",
        "#Drive\n",
        "from pydrive.auth import GoogleAuth\n",
        "from pydrive.drive import GoogleDrive\n",
        "from google.colab import auth\n",
        "from oauth2client.client import GoogleCredentials\n",
        "\n",
        "auth.authenticate_user()\n",
        "gauth = GoogleAuth()\n",
        "gauth.credentials = GoogleCredentials.get_application_default()\n",
        "drive = GoogleDrive(gauth)\n",
        "\n",
        "#mostrar todas saídas\n",
        "from IPython.core.interactiveshell import InteractiveShell\n",
        "InteractiveShell.ast_node_interactivity = \"all\"\n"
      ],
      "execution_count": null,
      "outputs": []
    },
    {
      "cell_type": "code",
      "metadata": {
        "id": "SLDWsg9bYRwp"
      },
      "source": [
        "# Configurando o Plotly\n",
        "\n",
        "def configure_plotly_browser_state():\n",
        "    import IPython\n",
        "    display(IPython.core.display.HTML('''\n",
        "        <script src=\"/static/components/requirejs/require.js\"></script>\n",
        "        <script>\n",
        "          requirejs.config({\n",
        "            paths: {\n",
        "              base: '/static/base',\n",
        "              plotly: 'https://cdn.plot.ly/plotly-1.5.1.min.js?noext',\n",
        "            },\n",
        "          });\n",
        "        </script>\n",
        "        '''))"
      ],
      "execution_count": null,
      "outputs": []
    },
    {
      "cell_type": "markdown",
      "metadata": {
        "id": "E8303NH7AjXw"
      },
      "source": [
        "## **Arquivo de Áudio Original**\n",
        "Este item restringe-se apenas ao carregamento do arquivo de audio a ser analisado ao longo deste exercício.\n",
        "Neste caso, utilizou-se o ***librosa***."
      ]
    },
    {
      "cell_type": "code",
      "metadata": {
        "id": "gLMetD3g-5KZ"
      },
      "source": [
        "#Leitura de arquivo de áudio do drive\n",
        "\n",
        "altas = drive.CreateFile({'id':'1KqqUlUatAmAIDvRvVvFflJodvATxGh8F'})\n",
        "altas.GetContentFile('altas.wav')\n",
        "baixas = drive.CreateFile({'id':'1SAGEPgEDgyM6wxqcBDeXi_TcxAwaVnkS'})\n",
        "baixas.GetContentFile('baixas.wav')\n",
        "\n",
        "fs, station1 = wavfile.read('baixas.wav')\n",
        "fs, station2 = wavfile.read('altas.wav')\n",
        "\n",
        "#Vamos garantir que os dois sinais possuem o mesmo número de amostras\n",
        "station1 = station1[:100000]\n",
        "station2 = station2[:100000]\n",
        "\n",
        "#Escutar áudios\n",
        "print(f'Frequência de Amostragem: {fs}Hz\\n')\n",
        "print(\"Station1 - Baixas Frequências\\n\")\n",
        "ipd.Audio(station1[:100000],rate=fs)\n",
        "print('\\n')\n",
        "print(\"Station2 - Altas Frequências\\n\")\n",
        "ipd.Audio(station2[:100000],rate=fs)"
      ],
      "execution_count": null,
      "outputs": []
    },
    {
      "cell_type": "markdown",
      "metadata": {
        "id": "TPhYMk3342Q6"
      },
      "source": [
        "## **Rotinas**"
      ]
    },
    {
      "cell_type": "markdown",
      "metadata": {
        "id": "UzZjKzMR4l7Y"
      },
      "source": [
        "**Rotinas: Espectro e Plot**"
      ]
    },
    {
      "cell_type": "code",
      "metadata": {
        "id": "_tpX6cKupyr2"
      },
      "source": [
        "def espectro(func, fs):\n",
        "    sinal = np.fft.fft(func) #transf. de Fourier\n",
        "    sinal = sinal[0:len(sinal)//2] #frequências positivas\n",
        "    sinal = np.abs(sinal) #módulo do sinal\n",
        "    w = np.linspace(0,fs/2,sinal.size) #frequencias avaliadas\n",
        "    return w,sinal\n",
        "\n",
        "def plot(x, y, title, name_x, name_y):\n",
        "    #no intuito de obter um gráfico interativo para a visualização da principal frequência de cada grupo, utilizou-se a biblioteca plotly\n",
        "    configure_plotly_browser_state()\n",
        "    init_notebook_mode(connected = False)\n",
        "\n",
        "    fig = go.Figure(data=go.Scatter(x=x, \n",
        "                                    y=y,\n",
        "                                    mode='lines',\n",
        "                                    line=dict(color='#6752de')),\n",
        "                    layout=go.Layout(title=title,\n",
        "                                     xaxis=dict(title=name_x),\n",
        "                                     yaxis=dict(title=name_y),\n",
        "                                     plot_bgcolor='#f2f0f0'))\n",
        "    fig.show()\n"
      ],
      "execution_count": null,
      "outputs": []
    },
    {
      "cell_type": "markdown",
      "metadata": {
        "id": "9ue3w3Wg_ydE"
      },
      "source": [
        "## Frequência da portadora\n",
        "\n",
        "Suponhando que a maior frequência presente nos dois sinais seja 3 kHz e que o alto falante reproduza frequências até 12 kHz, a maior frequência do sinal modulado será dada por $f_c + f_m$, sendo $f_c$ a frequência da portadora e $f_m$ a frequência do sinal. \n",
        "\n",
        "Neste caso, temos que $f_m= 3KHz$, logo:\n",
        "$f_c + 3 < 12KHz \\Longleftrightarrow f_c < 9HKz$\n",
        "\n",
        "Nessa perspectiva, a maior frequência da portadora para que o sinal modulado ainda possa ser transmitido é de $9KHz$."
      ]
    },
    {
      "cell_type": "markdown",
      "metadata": {
        "id": "Wu-Mv8PSS7oR"
      },
      "source": [
        "## **Espectros dos Sinais Originais**\n",
        "\n"
      ]
    },
    {
      "cell_type": "markdown",
      "metadata": {
        "id": "OYgK95_c_9zE"
      },
      "source": [
        "A partir das funções implementadas no tópico anterior (Rotinas), será obtido o espectro do sinal apenas com as frequências positivas."
      ]
    },
    {
      "cell_type": "code",
      "metadata": {
        "id": "0u5ovTnaeYBy"
      },
      "source": [
        "w_baixa, sinal_baixa = espectro(station1, fs)\n",
        "plot(w_baixa, sinal_baixa, 'Espectro do Sinal de Baixas Frequências', 'Freq. (Hz)', 'Amplitude')"
      ],
      "execution_count": null,
      "outputs": []
    },
    {
      "cell_type": "code",
      "metadata": {
        "id": "vivfpBzce_98"
      },
      "source": [
        "w_alta, sinal_alta = espectro(station2, fs)\n",
        "plot(w_alta, sinal_alta, 'Espectro do Sinal de Altas Frequências', 'Freq. (Hz)', 'Amplitude')"
      ],
      "execution_count": null,
      "outputs": []
    },
    {
      "cell_type": "markdown",
      "metadata": {
        "id": "vRkUhxpBAbhU"
      },
      "source": [
        "Ao observar os espectros gerados, é notável que em ambos os sinais as principais frequências se encontram abaixo de $3KHz$, sendo possivel então, filtráços a partir de um filtro passa baixas de $3KHz$ sem ocorrer em perdas."
      ]
    },
    {
      "cell_type": "markdown",
      "metadata": {
        "id": "MwmVAZADgcUC"
      },
      "source": [
        "## **Espectros Filtrados**"
      ]
    },
    {
      "cell_type": "markdown",
      "metadata": {
        "id": "VbJQHSjoBE5N"
      },
      "source": [
        "Nesta secção foi projetado um um filtro passa baixa, mais especificamente Filtro de Butterworth para filtrar os sinais e eliminar ruídos, que atrapalhariam no processo de modulação de transmissão."
      ]
    },
    {
      "cell_type": "markdown",
      "metadata": {
        "id": "zIXNhBI5jBLG"
      },
      "source": [
        "**Filtro de Butterworth**"
      ]
    },
    {
      "cell_type": "code",
      "metadata": {
        "id": "rGhJrz5qgivy"
      },
      "source": [
        "#Projeta o filtro\n",
        "sos = signal.butter(8, 3000, 'low', fs = fs, output = 'sos')\n",
        "\n",
        "#Plota a resposta em frequência do filtro\n",
        "w,h = signal.sosfreqz(sos,fs = fs)\n",
        "\n",
        "plt.figure(figsize=(10,6))\n",
        "plt.grid()\n",
        "plt.plot(w,np.abs(h), color = '#0ccf08')\n",
        "plt.xlim((0,4000))\n",
        "plt.xlabel('Frequência (Hz)')\n",
        "plt.ylabel('$|H(f)|$')\n",
        "plt.title('Filtro passa baixas de Butterworth')\n",
        "plt.show()\n",
        "\n",
        "#Filtra os sinais usando o filtro projetado acima\n",
        "station2_filtrado = signal.sosfilt(sos,station2)\n",
        "station1_filtrado = signal.sosfilt(sos,station1)"
      ],
      "execution_count": null,
      "outputs": []
    },
    {
      "cell_type": "markdown",
      "metadata": {
        "id": "zHj8n9h4BWAV"
      },
      "source": [
        "Os espectros filtrados pelo Filtro de Butterworth são plotados logo abaixo."
      ]
    },
    {
      "cell_type": "code",
      "metadata": {
        "id": "Gf_PNoBPhXxi"
      },
      "source": [
        "w_baixa_filtrado, sinal_baixa_filtrado = espectro(station1_filtrado, fs)\n",
        "plot(w_baixa_filtrado, sinal_baixa_filtrado, 'Espectro do Sinal de Baixas Frequências Filtrado', 'Freq. (Hz)', 'Amplitude')"
      ],
      "execution_count": null,
      "outputs": []
    },
    {
      "cell_type": "code",
      "metadata": {
        "id": "UO1eTgfZh3Tp"
      },
      "source": [
        "w_alta_filtrado, sinal_alta_filtrado = espectro(station2_filtrado, fs)\n",
        "plot(w_alta_filtrado, sinal_alta_filtrado, 'Espectro do Sinal de Altas Frequências Filtrado', 'Freq. (Hz)', 'Amplitude')"
      ],
      "execution_count": null,
      "outputs": []
    },
    {
      "cell_type": "markdown",
      "metadata": {
        "id": "yhn8LuwdCWHs"
      },
      "source": [
        "Ao análisar os espectros filtrados pelo Filtro de Butterworth, é notável que foi removido a maioria (o Filtro não é ideal) das componentes acima de 3KHz, nos permitindo transmitir um dos sinais com uma portadora de frequência 8KHz sem que haja interferência."
      ]
    },
    {
      "cell_type": "markdown",
      "metadata": {
        "id": "55I2Dro6kGRR"
      },
      "source": [
        "## **Modulação**"
      ]
    },
    {
      "cell_type": "markdown",
      "metadata": {
        "id": "085LRI6jCed0"
      },
      "source": [
        "Para modular o sinal station2, o multiplicamos por $cos(2\\pi f_ct)$ com $f_c = 8KHz$."
      ]
    },
    {
      "cell_type": "code",
      "metadata": {
        "id": "pU4DEsSnkJIX"
      },
      "source": [
        "# número de amostras / fs = 100000/44100 = 2.26\n",
        "t = np.linspace(0, 100000/fs, 100000)\n",
        "fc = 8000\n",
        "\n",
        "portadora = [np.cos(2*np.pi*fc*i) for i in t]\n",
        "station2_filtrado_cos = [station2_filtrado[i]*portadora[i] for i in range(len(t))]\n",
        "\n",
        "plot(t, station2_filtrado_cos, 'Sinal de Altas Frequências Modulado', 'Tempo (s)', '')"
      ],
      "execution_count": null,
      "outputs": []
    },
    {
      "cell_type": "code",
      "metadata": {
        "id": "8s60g7r9oTBc"
      },
      "source": [
        "w_cos, sinal_cos = espectro(station2_filtrado_cos, fs)\n",
        "plot(w_cos, sinal_cos, 'Espectro do Sinal de Altas Frequências Modulado', 'Freq. (Hz)', 'Amplitude')"
      ],
      "execution_count": null,
      "outputs": []
    },
    {
      "cell_type": "markdown",
      "metadata": {
        "id": "Y2rRunDKm5fA"
      },
      "source": [
        "## **Transmissão**"
      ]
    },
    {
      "cell_type": "markdown",
      "metadata": {
        "id": "hpKrw_leC7BT"
      },
      "source": [
        "Para transmiti-los, será somado os sinais station1 e station2 modulado"
      ]
    },
    {
      "cell_type": "code",
      "metadata": {
        "id": "afOaU7mbm8MX"
      },
      "source": [
        "sinal_transmitido = station1 + station2_filtrado_cos\n",
        "\n",
        "ipd.Audio(sinal_transmitido, rate = fs)"
      ],
      "execution_count": null,
      "outputs": []
    },
    {
      "cell_type": "code",
      "metadata": {
        "id": "ERFaiXg55J9i"
      },
      "source": [
        "w_transm, sinal_transm = espectro(sinal_transmitido, fs)\n",
        "plot(w_transm, sinal_transm, 'Espectro do Sinal Transmitido', 'Freq. (Hz)', 'Amplitude')"
      ],
      "execution_count": null,
      "outputs": []
    },
    {
      "cell_type": "markdown",
      "metadata": {
        "id": "62g0CK-_DFDr"
      },
      "source": [
        "Ao comparar este sinal com o sinal rx dado, é notável que os áudios são semelhantes."
      ]
    },
    {
      "cell_type": "code",
      "metadata": {
        "id": "xijDdmrr76JK"
      },
      "source": [
        "rx = drive.CreateFile({'id':'1PK5SffdhoB0w09hSsYisjZO8q9thkzDZ'})\n",
        "rx.GetContentFile('rx.wav')\n",
        "\n",
        "#rx = tx\n",
        "fs, rx = wavfile.read('rx.wav')\n",
        "\n",
        "ipd.Audio(rx[:100000],rate=fs)"
      ],
      "execution_count": null,
      "outputs": []
    },
    {
      "cell_type": "code",
      "metadata": {
        "id": "mOoUty2n8Zfh"
      },
      "source": [
        "w_rx, sinal_rx = espectro(rx, fs)\n",
        "plot(w_rx, sinal_rx, 'Espectro do Sinal rx', 'Freq. (Hz)', 'Amplitude')"
      ],
      "execution_count": null,
      "outputs": []
    },
    {
      "cell_type": "markdown",
      "metadata": {
        "id": "MJ1gHmPH72L1"
      },
      "source": [
        "## **Sinais Recuperados**"
      ]
    },
    {
      "cell_type": "markdown",
      "metadata": {
        "id": "IvMa8_hLDxri"
      },
      "source": [
        "### **Rec. Sinal RX**"
      ]
    },
    {
      "cell_type": "markdown",
      "metadata": {
        "id": "izsZtjwcDxrj"
      },
      "source": [
        "#### **Sinal 1**"
      ]
    },
    {
      "cell_type": "code",
      "metadata": {
        "id": "d_a8HMCeDxrj"
      },
      "source": [
        "rec1 = signal.sosfilt(sos,rx)\n",
        "w_rec1, sinal_rec1 = espectro(rec1, fs)\n",
        "plot(w_rec1, sinal_rec1, 'Espectro do Sinal 1 Recuperado', 'Freq. (Hz)', 'Amplitude')"
      ],
      "execution_count": null,
      "outputs": []
    },
    {
      "cell_type": "code",
      "metadata": {
        "id": "RnbneBsqDxrq"
      },
      "source": [
        "ipd.Audio(rec1[:100000],rate=fs)"
      ],
      "execution_count": null,
      "outputs": []
    },
    {
      "cell_type": "markdown",
      "metadata": {
        "id": "IMouwYUGDxrq"
      },
      "source": [
        "#### **Sinal 2**"
      ]
    },
    {
      "cell_type": "code",
      "metadata": {
        "id": "eTzaAl4cDxrr"
      },
      "source": [
        "#Projetar um filtro passa faixa\n",
        "passa_faixa = signal.butter(8, (4000, 12000), btype = 'bandpass', fs = fs, output = 'sos')\n",
        "\n",
        "sinal_rx_isolado = signal.sosfilt(passa_faixa, rx)"
      ],
      "execution_count": null,
      "outputs": []
    },
    {
      "cell_type": "code",
      "metadata": {
        "id": "AOUsA2gGDxrr"
      },
      "source": [
        "w_iso, sinal_iso = espectro(sinal_rx_isolado, fs)\n",
        "plot(w_iso, sinal_iso, 'Sinal Transmitido Filtrado', 'Freq. (Hz)', 'Amplitude')"
      ],
      "execution_count": null,
      "outputs": []
    },
    {
      "cell_type": "code",
      "metadata": {
        "id": "qAtLe3gsDxrx"
      },
      "source": [
        "sinal_isolado_modulado = [sinal_rx_isolado[i]*portadora[i] for i in range(len(t))]\n",
        "\n",
        "w_mod, sinal_mod = espectro(sinal_isolado_modulado, fs)\n",
        "plot(w_mod, sinal_mod, 'Espectro do Sinal Modulado', 'Freq. (Hz)', 'Amplitude')"
      ],
      "execution_count": null,
      "outputs": []
    },
    {
      "cell_type": "code",
      "metadata": {
        "id": "dP_uc374Dxr4"
      },
      "source": [
        "rec_2 = signal.sosfilt(sos, sinal_isolado_modulado)\n",
        "\n",
        "w_rec2, sinal_rec2 = espectro(rec_2, fs)\n",
        "plot(w_rec2, sinal_rec2, 'Espectro do Sinal 2 Recuperado', 'Freq. (Hz)', 'Amplitude')"
      ],
      "execution_count": null,
      "outputs": []
    },
    {
      "cell_type": "code",
      "metadata": {
        "id": "tGY_jVqzDxr-"
      },
      "source": [
        "ipd.Audio(rec_2[:100000], rate=fs)"
      ],
      "execution_count": null,
      "outputs": []
    },
    {
      "cell_type": "markdown",
      "metadata": {
        "id": "JhsxLU8vDgCp"
      },
      "source": [
        "### **Rec. Sinal Somado**"
      ]
    },
    {
      "cell_type": "markdown",
      "metadata": {
        "id": "a85YCM13A7Y2"
      },
      "source": [
        "#### **Sinal 1**\n",
        "\n",
        "Para recuperar o sinal 1, utilizaremos os sinais somados passsando-o por um mesmo filtro passa baixas com frequência de corte de 3KHz utilizado anteriormente."
      ]
    },
    {
      "cell_type": "code",
      "metadata": {
        "id": "htPcQfiNBm7D"
      },
      "source": [
        "rec1 = signal.sosfilt(sos,sinal_transmitido)\n",
        "w_rec1, sinal_rec1 = espectro(rec1, fs)\n",
        "plot(w_rec1, sinal_rec1, 'Espectro do Sinal 1 Recuperado', 'Freq. (Hz)', 'Amplitude')"
      ],
      "execution_count": null,
      "outputs": []
    },
    {
      "cell_type": "code",
      "metadata": {
        "id": "n4BCKLlPC2Eb"
      },
      "source": [
        "ipd.Audio(rec1[:100000],rate=fs)"
      ],
      "execution_count": null,
      "outputs": []
    },
    {
      "cell_type": "markdown",
      "metadata": {
        "id": "OM0HzS86BGrf"
      },
      "source": [
        "#### **Sinal 2**"
      ]
    },
    {
      "cell_type": "code",
      "metadata": {
        "id": "QTfbpmyOBCa7"
      },
      "source": [
        "#Projetar um filtro passa faixa\n",
        "passa_faixa = signal.butter(8, (4000, 12000), btype = 'bandpass', fs = fs, output = 'sos')\n",
        "\n",
        "sinal_transmitido_isolado = signal.sosfilt(passa_faixa, sinal_transmitido)"
      ],
      "execution_count": null,
      "outputs": []
    },
    {
      "cell_type": "code",
      "metadata": {
        "id": "VGv3V3GvFS1w"
      },
      "source": [
        "w_iso, sinal_iso = espectro(sinal_transmitido_isolado, fs)\n",
        "plot(w_iso, sinal_iso, 'Sinal Transmitido Filtrado', 'Freq. (Hz)', 'Amplitude')"
      ],
      "execution_count": null,
      "outputs": []
    },
    {
      "cell_type": "code",
      "metadata": {
        "id": "s-KNmEd_FnLa"
      },
      "source": [
        "sinal_isolado_modulado = [sinal_transmitido_isolado[i]*portadora[i] for i in range(len(t))]\n",
        "\n",
        "w_mod, sinal_mod = espectro(sinal_isolado_modulado, fs)\n",
        "plot(w_mod, sinal_mod, 'Espectro do Sinal Modulado', 'Freq. (Hz)', 'Amplitude')"
      ],
      "execution_count": null,
      "outputs": []
    },
    {
      "cell_type": "code",
      "metadata": {
        "colab": {
          "background_save": true
        },
        "id": "fCCa7XVeGRgc"
      },
      "source": [
        "rec_2 = signal.sosfilt(sos, sinal_isolado_modulado)\n",
        "\n",
        "w_rec2, sinal_rec2 = espectro(rec_2, fs)\n",
        "plot(w_rec2, sinal_rec2, 'Espectro do Sinal 2 Recuperado', 'Freq. (Hz)', 'Amplitude')"
      ],
      "execution_count": null,
      "outputs": []
    },
    {
      "cell_type": "code",
      "metadata": {
        "id": "XicEy20CGmBF"
      },
      "source": [
        "ipd.Audio(rec_2[:100000], rate=fs)"
      ],
      "execution_count": null,
      "outputs": []
    }
  ]
}